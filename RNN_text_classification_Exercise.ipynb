{
  "nbformat": 4,
  "nbformat_minor": 0,
  "metadata": {
    "colab": {
      "name": "RNN_text_classification_Exercise.ipynb",
      "provenance": [],
      "collapsed_sections": [],
      "include_colab_link": true
    },
    "kernelspec": {
      "name": "python3",
      "display_name": "Python 3"
    },
    "accelerator": "GPU"
  },
  "cells": [
    {
      "cell_type": "markdown",
      "metadata": {
        "id": "view-in-github",
        "colab_type": "text"
      },
      "source": [
        "<a href=\"https://colab.research.google.com/github/SoumyadeepB/DeepLearning/blob/master/RNN_text_classification_Exercise.ipynb\" target=\"_parent\"><img src=\"https://colab.research.google.com/assets/colab-badge.svg\" alt=\"Open In Colab\"/></a>"
      ]
    },
    {
      "cell_type": "markdown",
      "metadata": {
        "id": "5KOsOO6wZwgl",
        "colab_type": "text"
      },
      "source": [
        "# Text classification with an RNN\n",
        "\n"
      ]
    },
    {
      "cell_type": "markdown",
      "metadata": {
        "id": "l4vJ9eI_ZrS9",
        "colab_type": "text"
      },
      "source": [
        "This short text classification tutorial trains a [recurrent neural network](https://developers.google.com/machine-learning/glossary/#recurrent_neural_network) on the [IMDB large movie review dataset](http://ai.stanford.edu/~amaas/data/sentiment/) for sentiment analysis. This exercise classifies movie reviews as positive or negative using the text of the review. So, this is an example of utilizing RNNs for binary classification.\n",
        "\n",
        "We'll use the IMDB dataset that contains the text of 50,000 movie reviews from the Internet Movie Database. These are split into 25,000 reviews for training and 25,000 reviews for testing. The training and testing sets are balanced, meaning they contain an equal number of positive and negative reviews."
      ]
    },
    {
      "cell_type": "code",
      "metadata": {
        "id": "lVrWFCAQZ0b8",
        "colab_type": "code",
        "colab": {}
      },
      "source": [
        "from __future__ import absolute_import, division, print_function, unicode_literals\n",
        "import tensorflow_datasets as tfds\n",
        "import tensorflow as tf"
      ],
      "execution_count": null,
      "outputs": []
    },
    {
      "cell_type": "markdown",
      "metadata": {
        "id": "7-MYVED3Z9Sk",
        "colab_type": "text"
      },
      "source": [
        "Import `matplotlib` and create a helper function to plot graphs:"
      ]
    },
    {
      "cell_type": "code",
      "metadata": {
        "id": "g_pY7gYWaBVs",
        "colab_type": "code",
        "colab": {}
      },
      "source": [
        "import matplotlib.pyplot as plt\n",
        "\n",
        "\n",
        "def plot_graphs(history, string):\n",
        "  plt.plot(history.history[string])\n",
        "  plt.plot(history.history['val_'+string])\n",
        "  plt.xlabel(\"Epochs\")\n",
        "  plt.ylabel(string)\n",
        "  plt.legend([string, 'val_'+string])\n",
        "  plt.show()"
      ],
      "execution_count": null,
      "outputs": []
    },
    {
      "cell_type": "markdown",
      "metadata": {
        "id": "Cri-vvJjaH9l",
        "colab_type": "text"
      },
      "source": [
        "## Setup input pipeline\n",
        "\n",
        "\n",
        "The IMDB large movie review dataset is a *binary classification* dataset—all the reviews have either a *positive* or *negative* sentiment.\n",
        "\n"
      ]
    },
    {
      "cell_type": "code",
      "metadata": {
        "id": "efRjP9ena5kE",
        "colab_type": "code",
        "colab": {}
      },
      "source": [
        "### download the dataset using TFDS (https://www.tensorflow.org/datasets). The dataset comes with an inbuilt subword tokenizer. \n",
        "\n",
        "#dataset, info = tfds.load('imdb_reviews/subwords8k', with_info=True, as_supervised=True)\n",
        "\n",
        "train_dataset, test_dataset = dataset['train'], dataset['test']"
      ],
      "execution_count": null,
      "outputs": []
    },
    {
      "cell_type": "markdown",
      "metadata": {
        "id": "tXRCMTp8bYp0",
        "colab_type": "text"
      },
      "source": [
        "As this is a subwords tokenizer, it can be passed any string and the tokenizer will tokenize it.\n",
        "\n",
        "A tokenizer breaks down sentences into word representations. It then converts each word into a suitable word vector (word embedding) which is a very efficient representation that is to be fed to the LSTM layers."
      ]
    },
    {
      "cell_type": "code",
      "metadata": {
        "id": "dr5HYJ6cbbEl",
        "colab_type": "code",
        "colab": {}
      },
      "source": [
        "tokenizer = info.features['text'].encoder"
      ],
      "execution_count": null,
      "outputs": []
    },
    {
      "cell_type": "code",
      "metadata": {
        "id": "3CuiARs82wBf",
        "colab_type": "code",
        "colab": {
          "base_uri": "https://localhost:8080/",
          "height": 34
        },
        "outputId": "ba2301f2-5db5-44ad-9a90-7596103e5553"
      },
      "source": [
        "info.features['text']"
      ],
      "execution_count": null,
      "outputs": [
        {
          "output_type": "execute_result",
          "data": {
            "text/plain": [
              "Text(shape=(None,), dtype=tf.int64, encoder=<SubwordTextEncoder vocab_size=8185>)"
            ]
          },
          "metadata": {
            "tags": []
          },
          "execution_count": 28
        }
      ]
    },
    {
      "cell_type": "code",
      "metadata": {
        "id": "z_KLr12LbgPE",
        "colab_type": "code",
        "colab": {
          "base_uri": "https://localhost:8080/",
          "height": 34
        },
        "outputId": "bb16826e-0fd7-474c-c2d5-d3ed80a605aa"
      },
      "source": [
        "# print the Vocabulary size of the dataset\n",
        "print ('Vocabulary size: {}'.format(tokenizer.vocab_size))"
      ],
      "execution_count": null,
      "outputs": [
        {
          "output_type": "stream",
          "text": [
            "Vocabulary size: 8185\n"
          ],
          "name": "stdout"
        }
      ]
    },
    {
      "cell_type": "code",
      "metadata": {
        "id": "UbAN8o8TdeLJ",
        "colab_type": "code",
        "colab": {
          "base_uri": "https://localhost:8080/",
          "height": 51
        },
        "outputId": "49a5936f-311b-42cc-b359-43b8e9068233"
      },
      "source": [
        "# test the encoding/decoding format of an example string\n",
        "sample_string = 'RNNs are a cool DL framework.'\n",
        "\n",
        "tokenized_string = tokenizer.encode(sample_string)\n",
        "print ('Tokenized string is {}'.format(tokenized_string))\n",
        "\n",
        "original_string = tokenizer.decode(tokenized_string)\n",
        "print ('The original string: {}'.format(original_string))\n",
        "\n",
        "assert original_string == sample_string"
      ],
      "execution_count": null,
      "outputs": [
        {
          "output_type": "stream",
          "text": [
            "Tokenized string is [8011, 8007, 8007, 8, 29, 4, 1690, 7997, 3780, 2692, 431, 7975]\n",
            "The original string: RNNs are a cool DL framework.\n"
          ],
          "name": "stdout"
        }
      ]
    },
    {
      "cell_type": "markdown",
      "metadata": {
        "id": "KUIyUG_kd9J8",
        "colab_type": "text"
      },
      "source": [
        "The tokenizer encodes the string by breaking it into subwords if the word is not in its dictionary."
      ]
    },
    {
      "cell_type": "code",
      "metadata": {
        "id": "MYHhpWWrd9oE",
        "colab_type": "code",
        "colab": {
          "base_uri": "https://localhost:8080/",
          "height": 221
        },
        "outputId": "30a74e58-3c35-448c-ae84-4201dcf492dc"
      },
      "source": [
        "for ts in tokenized_string:\n",
        "  print ('{} ----> {}'.format(ts, tokenizer.decode([ts])))"
      ],
      "execution_count": null,
      "outputs": [
        {
          "output_type": "stream",
          "text": [
            "8011 ----> R\n",
            "8007 ----> N\n",
            "8007 ----> N\n",
            "8 ----> s \n",
            "29 ----> are \n",
            "4 ----> a \n",
            "1690 ----> cool \n",
            "7997 ----> D\n",
            "3780 ----> L \n",
            "2692 ----> frame\n",
            "431 ----> work\n",
            "7975 ----> .\n"
          ],
          "name": "stdout"
        }
      ]
    },
    {
      "cell_type": "markdown",
      "metadata": {
        "id": "9mv4XaOG7kgk",
        "colab_type": "text"
      },
      "source": [
        "Let us try to visualize our training data. Each example is a sentence representing the movie review and a corresponding label. The sentence is not preprocessed in any way. The label is an integer value of either 0 or 1, where 0 is a negative review, and 1 is a positive review.\n",
        "\n",
        "Let us print a training example."
      ]
    },
    {
      "cell_type": "code",
      "metadata": {
        "id": "hFmLQEHp7sNc",
        "colab_type": "code",
        "colab": {
          "base_uri": "https://localhost:8080/",
          "height": 289
        },
        "outputId": "4665a68a-01bf-45f9-eefe-a197e9f45fab"
      },
      "source": [
        "train_examples_batch, train_labels_batch = next(iter(train_dataset.batch(1)))\n",
        "train_examples_batch"
      ],
      "execution_count": null,
      "outputs": [
        {
          "output_type": "execute_result",
          "data": {
            "text/plain": [
              "<tf.Tensor: shape=(1, 163), dtype=int64, numpy=\n",
              "array([[  62,   18,   41,  604,  927,   65,    3,  644, 7968,   21,   35,\n",
              "        5096,   36,   11,   43, 2948, 5240,  102,   50,  681, 7862, 1244,\n",
              "           3, 3266,   29,  122,  640,    2,   26,   14,  279,  438,   35,\n",
              "          79,  349,  384,   11, 1991,    3,  492,   79,  122,  188,  117,\n",
              "          33, 4047, 4531,   14,   65, 7968,    8, 1819, 3947,    3,   62,\n",
              "          27,    9,   41,  577, 5044, 2629, 2552, 7193, 7961, 3642,    3,\n",
              "          19,  107, 3903,  225,   85,  198,   72,    1, 1512,  738, 2347,\n",
              "         102, 6245,    8,   85,  308,   79, 6936, 7961,   23, 4981, 8044,\n",
              "           3, 6429, 7961, 1141, 1335, 1848, 4848,   55, 3601, 4217, 8050,\n",
              "           2,    5,   59, 3831, 1484, 8040, 7974,  174, 5773,   22, 5240,\n",
              "         102,   18,  247,   26,    4, 3903, 1612, 3902,  291,   11,    4,\n",
              "          27,   13,   18, 4092, 4008, 7961,    6,  119,  213, 2774,    3,\n",
              "          12,  258, 2306,   13,   91,   29,  171,   52,  229,    2, 1245,\n",
              "        5790,  995, 7968,    8,   52, 2948, 5240, 8039, 7968,    8,   74,\n",
              "        1249,    3,   12,  117, 2438, 1369,  192,   39, 7975]])>"
            ]
          },
          "metadata": {
            "tags": []
          },
          "execution_count": 32
        }
      ]
    },
    {
      "cell_type": "markdown",
      "metadata": {
        "id": "eT8MDiN57vcI",
        "colab_type": "text"
      },
      "source": [
        "Let us also print the corresponding label"
      ]
    },
    {
      "cell_type": "code",
      "metadata": {
        "id": "O5lWgBNx1G5C",
        "colab_type": "code",
        "colab": {
          "base_uri": "https://localhost:8080/",
          "height": 68
        },
        "outputId": "a7ce4e2f-e292-4573-a724-59ef513c1a7e"
      },
      "source": [
        "dataset"
      ],
      "execution_count": null,
      "outputs": [
        {
          "output_type": "execute_result",
          "data": {
            "text/plain": [
              "{'test': <DatasetV1Adapter shapes: ((None,), ()), types: (tf.int64, tf.int64)>,\n",
              " 'train': <DatasetV1Adapter shapes: ((None,), ()), types: (tf.int64, tf.int64)>,\n",
              " 'unsupervised': <DatasetV1Adapter shapes: ((None,), ()), types: (tf.int64, tf.int64)>}"
            ]
          },
          "metadata": {
            "tags": []
          },
          "execution_count": 25
        }
      ]
    },
    {
      "cell_type": "code",
      "metadata": {
        "id": "IVykrrqP7yUX",
        "colab_type": "code",
        "colab": {
          "base_uri": "https://localhost:8080/",
          "height": 34
        },
        "outputId": "2e58e44e-8034-467f-9ed0-dc8b35716707"
      },
      "source": [
        "train_labels_batch"
      ],
      "execution_count": null,
      "outputs": [
        {
          "output_type": "execute_result",
          "data": {
            "text/plain": [
              "<tf.Tensor: shape=(1,), dtype=int64, numpy=array([0])>"
            ]
          },
          "metadata": {
            "tags": []
          },
          "execution_count": 33
        }
      ]
    },
    {
      "cell_type": "code",
      "metadata": {
        "id": "na29-KdO8m8z",
        "colab_type": "code",
        "colab": {}
      },
      "source": [
        "BUFFER_SIZE = 10000\n",
        "BATCH_SIZE = 64"
      ],
      "execution_count": null,
      "outputs": []
    },
    {
      "cell_type": "code",
      "metadata": {
        "id": "VwfocvSg8qJ5",
        "colab_type": "code",
        "colab": {}
      },
      "source": [
        "# batch and suffle the data\n",
        "train_dataset = train_dataset.shuffle(BUFFER_SIZE).padded_batch(BATCH_SIZE)\n",
        "test_dataset = test_dataset.shuffle(BUFFER_SIZE).padded_batch(BATCH_SIZE)"
      ],
      "execution_count": null,
      "outputs": []
    },
    {
      "cell_type": "markdown",
      "metadata": {
        "id": "jgZtPpqgeQ5D",
        "colab_type": "text"
      },
      "source": [
        "## Create the model"
      ]
    },
    {
      "cell_type": "markdown",
      "metadata": {
        "id": "cmIT6xoIeTCz",
        "colab_type": "text"
      },
      "source": [
        "Build a tf.keras.Sequential model and start with an embedding layer. An embedding layer stores one vector per word. When called, it converts the sequences of word indices to sequences of vectors. These vectors are trainable. After training (on enough data), words with similar meanings often have similar vectors.\n",
        "\n",
        "This index-lookup is much more efficient than the equivalent operation of passing a one-hot encoded vector through a tf.keras.layers.Dense layer.\n",
        "\n",
        "A recurrent neural network (RNN) processes sequence input by iterating through the elements. RNNs pass the outputs from one timestep to their input—and then to the next.\n",
        "\n",
        "The tf.keras.layers.Bidirectional wrapper can also be used with an RNN layer. This propagates the input forward and backwards through the RNN layer and then concatenates the output. This helps the RNN to learn long range dependencies."
      ]
    },
    {
      "cell_type": "code",
      "metadata": {
        "id": "SZdMaChLjfSo",
        "colab_type": "code",
        "colab": {}
      },
      "source": [
        "model = tf.keras.Sequential([\n",
        "    # embedding layer\n",
        "    tf.keras.layers.Embedding(tokenizer.vocab_size, 50),    \n",
        "    # LSTM(64)\n",
        "    tf.keras.layers.LSTM(64),\n",
        "    # dense layer + relu\n",
        "    tf.keras.layers.Dense(128,activation='relu'),\n",
        "    tf.keras.layers.Dense(1,activation='sigmoid')\n",
        "])"
      ],
      "execution_count": null,
      "outputs": []
    },
    {
      "cell_type": "markdown",
      "metadata": {
        "id": "RSfbv-87j2r6",
        "colab_type": "text"
      },
      "source": [
        "Compile the Keras model to configure the training process using the appropriate loss function and the adam optimizer. The main metric of intrest for compilation should be the accuracy of classification:"
      ]
    },
    {
      "cell_type": "code",
      "metadata": {
        "id": "LalckLoZj3Oy",
        "colab_type": "code",
        "colab": {}
      },
      "source": [
        "model.compile(loss='binary_crossentropy', optimizer='adam',metrics = ['accuracy'])"
      ],
      "execution_count": null,
      "outputs": []
    },
    {
      "cell_type": "markdown",
      "metadata": {
        "id": "T6rU0IIIkMOJ",
        "colab_type": "text"
      },
      "source": [
        "## Train the model"
      ]
    },
    {
      "cell_type": "code",
      "metadata": {
        "id": "-EGqwdrBkMiL",
        "colab_type": "code",
        "colab": {
          "base_uri": "https://localhost:8080/",
          "height": 357
        },
        "outputId": "5113ae65-c58e-4f66-e8fc-90d1f48d22c1"
      },
      "source": [
        "history = model.fit(train_dataset, epochs=10, validation_data=test_dataset)"
      ],
      "execution_count": null,
      "outputs": [
        {
          "output_type": "stream",
          "text": [
            "Epoch 1/10\n",
            "391/391 [==============================] - 35s 88ms/step - loss: 0.6933 - accuracy: 0.5002 - val_loss: 0.6931 - val_accuracy: 0.5005\n",
            "Epoch 2/10\n",
            "391/391 [==============================] - 35s 88ms/step - loss: 0.6927 - accuracy: 0.4991 - val_loss: 0.6930 - val_accuracy: 0.4998\n",
            "Epoch 3/10\n",
            "391/391 [==============================] - 35s 90ms/step - loss: 0.6911 - accuracy: 0.4998 - val_loss: 0.6929 - val_accuracy: 0.5022\n",
            "Epoch 4/10\n",
            "391/391 [==============================] - 35s 91ms/step - loss: 0.6891 - accuracy: 0.5052 - val_loss: 0.6938 - val_accuracy: 0.4998\n",
            "Epoch 5/10\n",
            "391/391 [==============================] - 36s 91ms/step - loss: 0.6870 - accuracy: 0.5080 - val_loss: 0.6971 - val_accuracy: 0.4995\n",
            "Epoch 6/10\n",
            "391/391 [==============================] - 36s 92ms/step - loss: 0.6866 - accuracy: 0.5060 - val_loss: 0.6962 - val_accuracy: 0.4998\n",
            "Epoch 7/10\n",
            "391/391 [==============================] - 35s 91ms/step - loss: 0.6862 - accuracy: 0.5053 - val_loss: 0.6948 - val_accuracy: 0.4997\n",
            "Epoch 8/10\n",
            "391/391 [==============================] - 36s 91ms/step - loss: 0.6855 - accuracy: 0.5081 - val_loss: 0.6955 - val_accuracy: 0.5024\n",
            "Epoch 9/10\n",
            "391/391 [==============================] - 36s 91ms/step - loss: 0.6855 - accuracy: 0.5081 - val_loss: 0.6969 - val_accuracy: 0.4997\n",
            "Epoch 10/10\n",
            "391/391 [==============================] - 36s 91ms/step - loss: 0.6849 - accuracy: 0.5053 - val_loss: 0.6977 - val_accuracy: 0.4997\n"
          ],
          "name": "stdout"
        }
      ]
    },
    {
      "cell_type": "code",
      "metadata": {
        "id": "2S5XipuDkOSh",
        "colab_type": "code",
        "colab": {
          "base_uri": "https://localhost:8080/",
          "height": 68
        },
        "outputId": "4aa910c0-9469-4d3a-d707-7f17f74531bb"
      },
      "source": [
        "test_loss, test_acc = model.evaluate(test_dataset)\n",
        "\n",
        "print('Test Loss: {}'.format(test_loss))\n",
        "print('Test Accuracy: {}'.format(test_acc))"
      ],
      "execution_count": null,
      "outputs": [
        {
          "output_type": "stream",
          "text": [
            "391/391 [==============================] - 9s 24ms/step - loss: 0.6970 - accuracy: 0.5002\n",
            "Test Loss: 0.6969824433326721\n",
            "Test Accuracy: 0.5001999735832214\n"
          ],
          "name": "stdout"
        }
      ]
    },
    {
      "cell_type": "markdown",
      "metadata": {
        "id": "Hq6cxGAtkP1Z",
        "colab_type": "text"
      },
      "source": [
        "The above model does not mask the padding applied to the sequences. This can lead to skewness if we train on padded sequences and test on un-padded sequences. Ideally the model would learn to ignore the padding, but as you can see below it does have a small effect on the output.\n",
        "\n",
        "If the prediction is >= 0.5, it is positive else it is negative."
      ]
    },
    {
      "cell_type": "code",
      "metadata": {
        "id": "TPT7WevkkRjx",
        "colab_type": "code",
        "colab": {}
      },
      "source": [
        "def pad_to_size(vec, size):\n",
        "  zeros = [0] * (size - len(vec))\n",
        "  vec.extend(zeros)\n",
        "  return vec"
      ],
      "execution_count": null,
      "outputs": []
    },
    {
      "cell_type": "code",
      "metadata": {
        "id": "8_4IvxCom1B0",
        "colab_type": "code",
        "colab": {}
      },
      "source": [
        "def sample_predict(sentence, pad):\n",
        "  tokenized_sample_pred_text = tokenizer.encode(sample_pred_text)\n",
        "\n",
        "  if pad:\n",
        "    tokenized_sample_pred_text = pad_to_size(tokenized_sample_pred_text, 64)\n",
        "\n",
        "  predictions = model.predict(tf.expand_dims(tokenized_sample_pred_text, 0))\n",
        "\n",
        "  return (predictions)"
      ],
      "execution_count": null,
      "outputs": []
    },
    {
      "cell_type": "code",
      "metadata": {
        "id": "T4L-Yy64m3Ix",
        "colab_type": "code",
        "colab": {
          "base_uri": "https://localhost:8080/",
          "height": 34
        },
        "outputId": "17fa726e-ea1d-49ee-903a-4eb7e4393b5a"
      },
      "source": [
        "# predict on a sample text without padding.\n",
        "\n",
        "sample_pred_text = ('The movie was cool. The animation and the graphics '\n",
        "                    'were out of this world. I would recommend this movie.')\n",
        "predictions = sample_predict(sample_pred_text, pad=False)\n",
        "print (predictions)"
      ],
      "execution_count": null,
      "outputs": [
        {
          "output_type": "stream",
          "text": [
            "[[0.46294823]]\n"
          ],
          "name": "stdout"
        }
      ]
    },
    {
      "cell_type": "code",
      "metadata": {
        "id": "EcKFnYTym62B",
        "colab_type": "code",
        "colab": {
          "base_uri": "https://localhost:8080/",
          "height": 34
        },
        "outputId": "7e754db0-a423-4c26-ce22-7c7e85d07191"
      },
      "source": [
        "# predict on a sample text with padding\n",
        "sample_pred_text = ('The movie was cool. The animation and the graphics '\n",
        "                    'were out of this world. I would recommend this movie.')\n",
        "predictions = sample_predict(sample_pred_text, pad=True)\n",
        "print (predictions)"
      ],
      "execution_count": null,
      "outputs": [
        {
          "output_type": "stream",
          "text": [
            "[[0.5023419]]\n"
          ],
          "name": "stdout"
        }
      ]
    },
    {
      "cell_type": "code",
      "metadata": {
        "id": "vBO5gVW6m9Y6",
        "colab_type": "code",
        "colab": {
          "base_uri": "https://localhost:8080/",
          "height": 279
        },
        "outputId": "91739657-0b81-415d-fd13-0ad871d4856d"
      },
      "source": [
        "plot_graphs(history, 'accuracy')"
      ],
      "execution_count": null,
      "outputs": [
        {
          "output_type": "display_data",
          "data": {
            "image/png": "[encoded data removed]",
            "text/plain": [
              "<Figure size 432x288 with 1 Axes>"
            ]
          },
          "metadata": {
            "tags": [],
            "needs_background": "light"
          }
        }
      ]
    },
    {
      "cell_type": "code",
      "metadata": {
        "id": "QXR2QTkim-gZ",
        "colab_type": "code",
        "colab": {
          "base_uri": "https://localhost:8080/",
          "height": 279
        },
        "outputId": "5022119e-eab5-4bef-a441-065024bc117a"
      },
      "source": [
        "plot_graphs(history, 'loss')"
      ],
      "execution_count": null,
      "outputs": [
        {
          "output_type": "display_data",
          "data": {
            "image/png": "[encoded data removed]",
            "text/plain": [
              "<Figure size 432x288 with 1 Axes>"
            ]
          },
          "metadata": {
            "tags": [],
            "needs_background": "light"
          }
        }
      ]
    },
    {
      "cell_type": "markdown",
      "metadata": {
        "id": "wl__g8n6m_lR",
        "colab_type": "text"
      },
      "source": [
        "## Stack two or more LSTM layers\n",
        "\n",
        "Keras recurrent layers have two available modes that are controlled by the `return_sequences` constructor argument:\n",
        "\n",
        "* Return either the full sequences of successive outputs for each timestep (a 3D tensor of shape `(batch_size, timesteps, output_features)`).\n",
        "* Return only the last output for each input sequence (a 2D tensor of shape (batch_size, output_features))."
      ]
    },
    {
      "cell_type": "code",
      "metadata": {
        "id": "TWZ39QpxnBqB",
        "colab_type": "code",
        "colab": {}
      },
      "source": [
        "# redefine the model by stacking two or more LSTM layers\n",
        "\n",
        "model = tf.keras.Sequential([\n",
        "    # embedding layer\n",
        "    tf.keras.layers.Embedding(tokenizer.vocab_size, 150, mask_zero=True),    \n",
        "    # LSTM(64)\n",
        "    tf.keras.layers.LSTM(128, return_sequences=True),\n",
        "    tf.keras.layers.LSTM(64, return_sequences=True),\n",
        "    tf.keras.layers.LSTM(16),\n",
        "    # dense layer + relu\n",
        "    tf.keras.layers.Dense(128,activation='relu'),\n",
        "    tf.keras.layers.Dense(1,activation='sigmoid')\n",
        "])"
      ],
      "execution_count": null,
      "outputs": []
    },
    {
      "cell_type": "code",
      "metadata": {
        "id": "FYO-HQ4ancIZ",
        "colab_type": "code",
        "colab": {}
      },
      "source": [
        "model.compile(loss='binary_crossentropy', metrics=['accuracy'], optimizer='adam')"
      ],
      "execution_count": null,
      "outputs": []
    },
    {
      "cell_type": "code",
      "metadata": {
        "id": "if3v2pHZnccw",
        "colab_type": "code",
        "colab": {
          "base_uri": "https://localhost:8080/",
          "height": 357
        },
        "outputId": "947a7938-5c2a-4c16-dcb6-fc5e11e9efa2"
      },
      "source": [
        "history = model.fit(train_dataset, epochs=10, validation_data=test_dataset)"
      ],
      "execution_count": null,
      "outputs": [
        {
          "output_type": "stream",
          "text": [
            "Epoch 1/10\n",
            "391/391 [==============================] - 102s 260ms/step - loss: 0.5652 - accuracy: 0.6990 - val_loss: 0.4466 - val_accuracy: 0.7899\n",
            "Epoch 2/10\n",
            "391/391 [==============================] - 100s 255ms/step - loss: 0.3655 - accuracy: 0.8478 - val_loss: 0.3648 - val_accuracy: 0.8466\n",
            "Epoch 3/10\n",
            "391/391 [==============================] - 100s 256ms/step - loss: 0.2511 - accuracy: 0.9067 - val_loss: 0.3830 - val_accuracy: 0.8529\n",
            "Epoch 4/10\n",
            "391/391 [==============================] - 100s 255ms/step - loss: 0.1754 - accuracy: 0.9364 - val_loss: 0.4238 - val_accuracy: 0.8351\n",
            "Epoch 5/10\n",
            "391/391 [==============================] - 100s 255ms/step - loss: 0.1354 - accuracy: 0.9528 - val_loss: 0.5128 - val_accuracy: 0.8036\n",
            "Epoch 6/10\n",
            "391/391 [==============================] - 100s 256ms/step - loss: 0.0942 - accuracy: 0.9694 - val_loss: 0.5590 - val_accuracy: 0.8308\n",
            "Epoch 7/10\n",
            "391/391 [==============================] - 100s 255ms/step - loss: 0.0600 - accuracy: 0.9817 - val_loss: 0.5834 - val_accuracy: 0.8312\n",
            "Epoch 8/10\n",
            "391/391 [==============================] - 100s 256ms/step - loss: 0.0548 - accuracy: 0.9833 - val_loss: 0.6225 - val_accuracy: 0.8467\n",
            "Epoch 9/10\n",
            "391/391 [==============================] - 100s 255ms/step - loss: 0.1010 - accuracy: 0.9655 - val_loss: 0.5581 - val_accuracy: 0.7768\n",
            "Epoch 10/10\n",
            "391/391 [==============================] - 100s 255ms/step - loss: 0.0684 - accuracy: 0.9774 - val_loss: 0.7603 - val_accuracy: 0.8064\n"
          ],
          "name": "stdout"
        }
      ]
    },
    {
      "cell_type": "code",
      "metadata": {
        "id": "Nm0KsyHcnmkp",
        "colab_type": "code",
        "colab": {
          "base_uri": "https://localhost:8080/",
          "height": 68
        },
        "outputId": "17a25a88-36ca-499b-b455-8cacebd8a7be"
      },
      "source": [
        "test_loss, test_acc = model.evaluate(test_dataset)\n",
        "\n",
        "print('Test Loss: {}'.format(test_loss))\n",
        "print('Test Accuracy: {}'.format(test_acc))"
      ],
      "execution_count": null,
      "outputs": [
        {
          "output_type": "stream",
          "text": [
            "391/391 [==============================] - 30s 76ms/step - loss: 0.7603 - accuracy: 0.8064\n",
            "Test Loss: 0.7602950930595398\n",
            "Test Accuracy: 0.8063600063323975\n"
          ],
          "name": "stdout"
        }
      ]
    },
    {
      "cell_type": "code",
      "metadata": {
        "id": "EpLOtAJsnm0A",
        "colab_type": "code",
        "colab": {
          "base_uri": "https://localhost:8080/",
          "height": 34
        },
        "outputId": "c498143c-fd2e-4133-da38-33f0c345dbfa"
      },
      "source": [
        "# predict on a sample text without padding.\n",
        "\n",
        "sample_pred_text = ('The movie was not good. The animation and the graphics '\n",
        "                    'were terrible. I would not recommend this movie.')\n",
        "predictions = sample_predict(sample_pred_text, pad=False)\n",
        "print (predictions)"
      ],
      "execution_count": null,
      "outputs": [
        {
          "output_type": "stream",
          "text": [
            "[[0.00448774]]\n"
          ],
          "name": "stdout"
        }
      ]
    },
    {
      "cell_type": "code",
      "metadata": {
        "id": "uA6MAu2vnosZ",
        "colab_type": "code",
        "colab": {
          "base_uri": "https://localhost:8080/",
          "height": 34
        },
        "outputId": "fd0c6c93-9fa2-470a-903f-9baa00c3193c"
      },
      "source": [
        "# predict on a sample text with padding\n",
        "\n",
        "sample_pred_text = ('The movie was not good. The animation and the graphics '\n",
        "                    'were terrible. I would not recommend this movie.')\n",
        "predictions = sample_predict(sample_pred_text, pad=True)\n",
        "print (predictions)"
      ],
      "execution_count": null,
      "outputs": [
        {
          "output_type": "stream",
          "text": [
            "[[0.00448774]]\n"
          ],
          "name": "stdout"
        }
      ]
    },
    {
      "cell_type": "code",
      "metadata": {
        "id": "IZh6gPD5npz5",
        "colab_type": "code",
        "colab": {
          "base_uri": "https://localhost:8080/",
          "height": 279
        },
        "outputId": "19a93b02-f612-4e21-d6ec-a9a014d3ef5a"
      },
      "source": [
        "plot_graphs(history, 'accuracy')"
      ],
      "execution_count": null,
      "outputs": [
        {
          "output_type": "display_data",
          "data": {
            "image/png": "[encoded data removed]",
            "text/plain": [
              "<Figure size 432x288 with 1 Axes>"
            ]
          },
          "metadata": {
            "tags": [],
            "needs_background": "light"
          }
        }
      ]
    },
    {
      "cell_type": "code",
      "metadata": {
        "id": "KDlXZkdunrBx",
        "colab_type": "code",
        "colab": {
          "base_uri": "https://localhost:8080/",
          "height": 279
        },
        "outputId": "be4bf622-1672-4164-e414-e71cc4efa744"
      },
      "source": [
        "plot_graphs(history, 'loss')"
      ],
      "execution_count": null,
      "outputs": [
        {
          "output_type": "display_data",
          "data": {
            "image/png": "[encoded data removed]",
            "text/plain": [
              "<Figure size 432x288 with 1 Axes>"
            ]
          },
          "metadata": {
            "tags": [],
            "needs_background": "light"
          }
        }
      ]
    }
  ]
}